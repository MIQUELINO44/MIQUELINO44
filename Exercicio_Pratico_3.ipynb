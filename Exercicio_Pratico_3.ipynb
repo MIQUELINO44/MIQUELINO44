{
  "nbformat": 4,
  "nbformat_minor": 0,
  "metadata": {
    "colab": {
      "provenance": [],
      "authorship_tag": "ABX9TyNfnYsIKzSWr8omjUIikiHx",
      "include_colab_link": true
    },
    "kernelspec": {
      "name": "python3",
      "display_name": "Python 3"
    },
    "language_info": {
      "name": "python"
    }
  },
  "cells": [
    {
      "cell_type": "markdown",
      "metadata": {
        "id": "view-in-github",
        "colab_type": "text"
      },
      "source": [
        "<a href=\"https://colab.research.google.com/github/MIQUELINO44/MIQUELINO44/blob/main/Exercicio_Pratico_3.ipynb\" target=\"_parent\"><img src=\"https://colab.research.google.com/assets/colab-badge.svg\" alt=\"Open In Colab\"/></a>"
      ]
    },
    {
      "cell_type": "code",
      "execution_count": 1,
      "metadata": {
        "colab": {
          "base_uri": "https://localhost:8080/"
        },
        "id": "mzjkcU53bWqz",
        "outputId": "72b68155-eade-496e-be05-f41814db5d28"
      },
      "outputs": [
        {
          "output_type": "stream",
          "name": "stdout",
          "text": [
            "Seja bem vindo ao Programa de Feijoada do Luciano Duarte Miquelino\n",
            "Entre com a quantidade que deseja(ml): 200\n",
            "Não aceitamos porções menores que 300ml e maiores que 5000ml. Tente novamente!\n",
            "Entre com a quantidade que deseja(ml): 1000\n",
            "Menu opção Feijoada\n",
            "Entre com a opção desejada\n",
            "b - Básica ( Feijão + Paio + Costelinha\n",
            "p - Premium ( Feijão + Paio + Costelinha + Partes de porco\n",
            "s - Suprema ( Feijão + Paio + Costelinha + Partes de porco + Charque + Calabresa + Bacon\n",
            ">> e\n",
            "Opção inválida\n",
            "Menu opção Feijoada\n",
            "Entre com a opção desejada\n",
            "b - Básica ( Feijão + Paio + Costelinha\n",
            "p - Premium ( Feijão + Paio + Costelinha + Partes de porco\n",
            "s - Suprema ( Feijão + Paio + Costelinha + Partes de porco + Charque + Calabresa + Bacon\n",
            ">> s\n",
            "0 - não desejo mais acompanhamentos (encerrar pedido)\n",
            "1 - 200g de arroz \n",
            "2 - 150g de farofa especial\n",
            "3 - 100g de couve cozida\n",
            "4 - 1 laranja descascada\n",
            "Deseja mais algum acompanhamento: 1\n",
            "0 - não desejo mais acompanhamentos (encerrar pedido)\n",
            "1 - 200g de arroz \n",
            "2 - 150g de farofa especial\n",
            "3 - 100g de couve cozida\n",
            "4 - 1 laranja descascada\n",
            "Deseja mais algum acompanhamento: 2\n",
            "0 - não desejo mais acompanhamentos (encerrar pedido)\n",
            "1 - 200g de arroz \n",
            "2 - 150g de farofa especial\n",
            "3 - 100g de couve cozida\n",
            "4 - 1 laranja descascada\n",
            "Deseja mais algum acompanhamento: 0\n",
            "Valor total a pagar é de (R$): 131.00).\n"
          ]
        }
      ],
      "source": [
        "def volumeFeijoada():#Função do volume da Feijoada.\n",
        "    while True:\n",
        "        try:\n",
        "            volume = int(input(\"Entre com a quantidade que deseja(ml): \"))\n",
        "            if 300 <= volume <= 5000:\n",
        "                return volume * 0.08\n",
        "            else:\n",
        "                print(\"Não aceitamos porções menores que 300ml e maiores que 5000ml. Tente novamente!\")\n",
        "                continue\n",
        "        except:\n",
        "            print(\"Digite apenas valores numéricos.\")\n",
        "            continue\n",
        "\n",
        "\n",
        "def opcaoFeijoada():#Funcão das opções de feijoada.\n",
        "    adicional = 0\n",
        "    while True:\n",
        "        try:\n",
        "            print(\"Menu opção Feijoada\")\n",
        "            print(\"Entre com a opção desejada\")\n",
        "            print(\"b - Básica ( Feijão + Paio + Costelinha\")\n",
        "            print(\"p - Premium ( Feijão + Paio + Costelinha + Partes de porco\")\n",
        "            print(\"s - Suprema ( Feijão + Paio + Costelinha + Partes de porco + Charque + Calabresa + Bacon\")\n",
        "            opcao = input(\">> \")# valores adicionais\n",
        "            if opcao == \"b\":\n",
        "                adicional += 1.0\n",
        "            elif opcao == \"p\":\n",
        "                adicional += 1.25\n",
        "            elif opcao == \"s\":\n",
        "                adicional += 1.50\n",
        "            else:\n",
        "                print('Opção inválida')\n",
        "                continue\n",
        "\n",
        "            return adicional\n",
        "        except:\n",
        "            print('Apenas valores entre b, p, s')\n",
        "            continue\n",
        "\n",
        "def acompanhamentoFeijoada():#Função dos acompanhamentos\n",
        "    valor = 0\n",
        "    while True:\n",
        "        try:\n",
        "            print(\"0 - não desejo mais acompanhamentos (encerrar pedido)\")\n",
        "            print(\"1 - 200g de arroz \")\n",
        "            print(\"2 - 150g de farofa especial\")\n",
        "            print(\"3 - 100g de couve cozida\")\n",
        "            print(\"4 - 1 laranja descascada\")\n",
        "\n",
        "            acompanhamento = int(input('Deseja mais algum acompanhamento: '))#Valores dos acompanhamentos\n",
        "            if acompanhamento == 1:\n",
        "                valor += 5.0\n",
        "            elif acompanhamento == 2:\n",
        "                valor += 6.0\n",
        "            elif acompanhamento == 3:\n",
        "                valor += 7.0\n",
        "            elif acompanhamento == 4:\n",
        "                valor += 3.0\n",
        "            elif acompanhamento == 0:\n",
        "                return valor\n",
        "            else:\n",
        "                continue\n",
        "\n",
        "        except:\n",
        "            print(\"Digite apenas valores numérico\")\n",
        "\n",
        "\n",
        "print(\"Seja bem vindo ao Programa de Feijoada do Luciano Duarte Miquelino\")#Identificador pessoal\n",
        "volumefeijoada = volumeFeijoada()\n",
        "opcao = opcaoFeijoada()\n",
        "acompanhamento = acompanhamentoFeijoada()\n",
        "total = (volumefeijoada * opcao) + acompanhamento\n",
        "print(\"Valor total a pagar é de (R$): {:.2f}).\".format(total))"
      ]
    }
  ]
}