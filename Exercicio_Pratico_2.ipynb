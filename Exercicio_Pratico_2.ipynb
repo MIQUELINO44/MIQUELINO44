{
  "nbformat": 4,
  "nbformat_minor": 0,
  "metadata": {
    "colab": {
      "provenance": [],
      "authorship_tag": "ABX9TyOGFbpmJ2TO9yPKfK8rYPVV",
      "include_colab_link": true
    },
    "kernelspec": {
      "name": "python3",
      "display_name": "Python 3"
    },
    "language_info": {
      "name": "python"
    }
  },
  "cells": [
    {
      "cell_type": "markdown",
      "metadata": {
        "id": "view-in-github",
        "colab_type": "text"
      },
      "source": [
        "<a href=\"https://colab.research.google.com/github/MIQUELINO44/MIQUELINO44/blob/main/Exercicio_Pratico_2.ipynb\" target=\"_parent\"><img src=\"https://colab.research.google.com/assets/colab-badge.svg\" alt=\"Open In Colab\"/></a>"
      ]
    },
    {
      "cell_type": "code",
      "execution_count": 3,
      "metadata": {
        "colab": {
          "base_uri": "https://localhost:8080/"
        },
        "id": "LNYDHshrZZS8",
        "outputId": "2c321bef-ff2f-4d46-9038-fdc9bcb288f8"
      },
      "outputs": [
        {
          "output_type": "stream",
          "name": "stdout",
          "text": [
            "Olá seja bem vindo a pizzaria do  Luciano Duarte Miquelino\n",
            "Faça seu pedido!!!\n",
            "\n",
            "                         CARDÁPIO                           \n",
            " ***********************************************************\n",
            " |  Codigo  |  Descrição  |  Pizza Média  |  Pizza Grande  |\n",
            " |**********|*************|***************|****************|\n",
            " |    21    |  Napolitana |    R$ 20,00   |    R$ 26,00    |\n",
            " |    22    |  Margherita |    R$ 20,00   |    R$ 26,00    |\n",
            " |    23    |  Calabresa  |    R$ 25,00   |    R$ 32,50    |\n",
            " |    24    |  Toscana    |    R$ 30,00   |    R$ 39,00    |\n",
            " |    25    |  Portuguesa |    R$ 30,00   |    R$ 39,00    |\n",
            "************************************************************\n",
            "Escolha o tamanho (M/G): G\n",
            "Insira o codigo do produto: 22\n",
            "Você pediu uma pizza Margherita\n",
            "Deseja mais algum item? (1 - Sim / 0 - Não ) : 1\n",
            "Escolha o tamanho (M/G): a\n",
            "Tamanho inválido\n",
            "Escolha o tamanho (M/G): M\n",
            "Insira o codigo do produto: 52\n",
            "Código inválido\n",
            "Escolha o tamanho (M/G): M\n",
            "Insira o codigo do produto: 25\n",
            "Você pediu uma pizza Portuguesa\n",
            "Deseja mais algum item? (1 - Sim / 0 - Não ) : 0\n",
            "O valor total da sua conta é: R$ 56.00\n",
            " ***********************************************************\n",
            " ****** Obrigado pela preferência e volte sempre !!! *******\n",
            " ***********************************************************\n"
          ]
        }
      ],
      "source": [
        "acumulador = 0\n",
        "print(\"Olá seja bem vindo a pizzaria do  Luciano Duarte Miquelino\")\n",
        "print(\"Faça seu pedido!!!\")\n",
        "print(\"\")\n",
        "print(\"                         CARDÁPIO                           \")\n",
        "print(\" ***********************************************************\")\n",
        "print(\" |  Codigo  |  Descrição  |  Pizza Média  |  Pizza Grande  |\")\n",
        "print(\" |**********|*************|***************|****************|\")\n",
        "print(\" |    21    |  Napolitana |    R$ 20,00   |    R$ 26,00    |\")\n",
        "print(\" |    22    |  Margherita |    R$ 20,00   |    R$ 26,00    |\")\n",
        "print(\" |    23    |  Calabresa  |    R$ 25,00   |    R$ 32,50    |\")\n",
        "print(\" |    24    |  Toscana    |    R$ 30,00   |    R$ 39,00    |\")\n",
        "print(\" |    25    |  Portuguesa |    R$ 30,00   |    R$ 39,00    |\")\n",
        "print(\"************************************************************\")\n",
        "while True:\n",
        "    tamanho = input(\"Escolha o tamanho (M/G): \") #Cliente escolhe o tamanho\n",
        "    if tamanho != 'M' and tamanho != 'G':\n",
        "        print('Tamanho inválido')\n",
        "        continue\n",
        "    codigo = int(input(\"Insira o codigo do produto: \"))\n",
        "    if codigo < 21:\n",
        "        print(\"Código inválido\")#Mensagem quando digitado o código inexistente\n",
        "        continue\n",
        "    elif codigo > 25:\n",
        "        print(\"Código inválido\")\n",
        "        continue\n",
        "    if codigo == 21:#Início do cardápio com tamanhos e sabores de pizza.\n",
        "        if tamanho == 'M':\n",
        "            acumulador += 20\n",
        "        elif tamanho == 'G':\n",
        "            acumulador += 26\n",
        "        print('Você pediu uma pizza Napolitana')\n",
        "    elif codigo == 22:\n",
        "        if tamanho == 'M':\n",
        "            acumulador += 20\n",
        "        elif tamanho == 'G':\n",
        "            acumulador += 26\n",
        "        print('Você pediu uma pizza Margherita')\n",
        "    elif codigo == 23:\n",
        "        if tamanho == 'M':\n",
        "            acumulador += 25\n",
        "        elif tamanho == 'G':\n",
        "            acumulador += 32.50\n",
        "        print('Você pediu uma pizza Calabresa')\n",
        "    elif codigo == 24:\n",
        "        if tamanho == 'M':\n",
        "            acumulador += 30\n",
        "        elif tamanho == 'G':\n",
        "            acumulador += 39\n",
        "        print('Você pediu uma pizza Toscana')\n",
        "    elif codigo == 25:\n",
        "        if tamanho == 'M':\n",
        "            acumulador += 30\n",
        "        elif tamanho == 'G':\n",
        "            acumulador += 39\n",
        "        print('Você pediu uma pizza Portuguesa')\n",
        "\n",
        "    resposta = int(input(\"Deseja mais algum item? (1 - Sim / 0 - Não ) : \"))#Pergunta ao cliente se deseja mais algum item.\n",
        "    if resposta == 1:\n",
        "        continue\n",
        "    else:\n",
        "        print(\"O valor total da sua conta é: R$ {:.2f}\".format(acumulador))#Finalização do pedido com o valor a ser pago.\n",
        "        print(\" ***********************************************************\")\n",
        "        print(\" ****** Obrigado pela preferência e volte sempre !!! *******\")\n",
        "        print(\" ***********************************************************\")\n",
        "        break\n"
      ]
    }
  ]
}