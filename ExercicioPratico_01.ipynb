{
  "nbformat": 4,
  "nbformat_minor": 0,
  "metadata": {
    "colab": {
      "provenance": [],
      "authorship_tag": "ABX9TyMH9zu7ocA7cmLGJ4DvUWNd",
      "include_colab_link": true
    },
    "kernelspec": {
      "name": "python3",
      "display_name": "Python 3"
    },
    "language_info": {
      "name": "python"
    }
  },
  "cells": [
    {
      "cell_type": "markdown",
      "metadata": {
        "id": "view-in-github",
        "colab_type": "text"
      },
      "source": [
        "<a href=\"https://colab.research.google.com/github/MIQUELINO44/MIQUELINO44/blob/main/ExercicioPratico_01.ipynb\" target=\"_parent\"><img src=\"https://colab.research.google.com/assets/colab-badge.svg\" alt=\"Open In Colab\"/></a>"
      ]
    },
    {
      "cell_type": "code",
      "execution_count": 1,
      "metadata": {
        "colab": {
          "base_uri": "https://localhost:8080/"
        },
        "id": "G4OgnMbyTuEo",
        "outputId": "80b8460f-ebf9-442d-dc51-f3daf56ce86c"
      },
      "outputs": [
        {
          "output_type": "stream",
          "name": "stdout",
          "text": [
            "Bem vindo a Loja do Luciano Duarte Miquelino\n",
            "Entre com o valor do produto : 12.4\n",
            "Entre com a quantidade : 10\n",
            "Valor sem desconto foi : R$ 124.00\n",
            "Valor com desconto foi : R$ 120.28\n"
          ]
        }
      ],
      "source": [
        "print(\"Bem vindo a Loja do Luciano Duarte Miquelino\")\n",
        "valorProduto = float(input(\"Entre com o valor do produto : \"))\n",
        "qtdeProduto = int(input(\"Entre com a quantidade : \"))\n",
        "valorTotalSemDesconto = valorProduto*qtdeProduto\n",
        "if 0 < qtdeProduto <= 4:\n",
        "    valorDesconto = 0.00 * valorTotalSemDesconto #até 4 unid sem desconto#\n",
        "elif 4 < qtdeProduto <= 19:\n",
        "    valorDesconto = 0.03 * valorTotalSemDesconto #desconto de 3%#\n",
        "elif 20 < qtdeProduto <= 99:\n",
        "    valorDesconto = 0.06 * valorTotalSemDesconto #desconto de 6%#\n",
        "else:\n",
        "    valorDesconto = 0.1 * valorTotalSemDesconto #desconto de 10% igual ou maior que 100 unid#\n",
        "print(f\"Valor sem desconto foi : R$ {valorProduto*qtdeProduto:.2f}\")\n",
        "print(f\"Valor com desconto foi : R$ {valorTotalSemDesconto-valorDesconto:.2f}\")"
      ]
    }
  ]
}